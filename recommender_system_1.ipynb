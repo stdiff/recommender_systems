{
 "cells": [
  {
   "cell_type": "markdown",
   "metadata": {
    "collapsed": true
   },
   "source": [
    "# Recommender System based on a purchase history 1\n",
    "\n",
    "## Introduction\n",
    "\n",
    "A recommender system is one of the important features for almost all web services such as online shops and important for both the website owners and visitors because\n",
    "\n",
    "- The website owners want visitors to stay on their website (and to click ads or \"add to cart\" button).\n",
    "- The visitors (customers) want to find/read an interesting webpage/article/product (item).\n",
    "\n",
    "The easiest recommendation is the most popular items. Such a recommender system is easy to implement. Moreover it is effective because the popularity means by definition that many people are likely to be interested in the items. But such a recommender system ignores personal preferences, even though the website owners know visitors through historical data such as a purchase history.\n",
    "\n",
    "The aim of this document is to implement several recommender systems for a particular dataset and to measure the performance of the recommender systems.\n",
    "\n",
    "## Before discussion\n",
    "\n",
    "- This document is written for people who understand linear algebra and Python.\n",
    "- The implementation is very naive and we may make it more efficient.\n",
    "- Most of functions can be found in the module `binarycf.py`, which can be found in the repository as this document.\n",
    "- The performance of recommender systems depends on the dataset we use to train a model. Thus the conclusion of this document does not extend to other datasets."
   ]
  },
  {
   "cell_type": "code",
   "execution_count": 1,
   "metadata": {
    "collapsed": false
   },
   "outputs": [],
   "source": [
    "from collections import defaultdict\n",
    "\n",
    "import numpy as np\n",
    "import pandas as pd\n",
    "import matplotlib.pyplot as plt\n",
    "import seaborn as sns\n",
    "import binarycf as bcf ## you can find this in this repository!\n",
    "\n",
    "%matplotlib inline \n",
    "from pylab import rcParams\n",
    "rcParams['figure.figsize'] = 10, 5 ## width, height (inches)"
   ]
  },
  {
   "cell_type": "markdown",
   "metadata": {},
   "source": [
    "## Data\n",
    "\n",
    "The data which we are going to look at is provided for [Data Analysis Using SQL and Excel](http://eu.wiley.com/WileyCDA/WileyTitle/productCd-111902143X.html). We use (small part of) Purchases Dataset, which was probably artificially generated. Unfortunately there is no detailed information about items.\n",
    "\n",
    "NB: Since `orders.txt` contains strange letters, we fail to import the dataset directly. To avoid the unwanted letters we convert the text file by `nkf -w orders.txt > orders.csv`. (The conversion actually fails, but it is OK because we do not use the column containing the unwanted letters.)"
   ]
  },
  {
   "cell_type": "code",
   "execution_count": 2,
   "metadata": {
    "collapsed": false
   },
   "outputs": [],
   "source": [
    "df_customers = pd.read_csv('purchase-data/customers.txt',sep='\\t')[['customerid','householdid']]\n",
    "df_orderlines = pd.read_csv('purchase-data/orderlines.txt',sep='\\t')[['orderid','productid']]\n",
    "df_orders = pd.read_csv('purchase-data/orders.csv',sep='\\t')[['customerid','orderid']]\n",
    "df_products = pd.read_csv('purchase-data/products.txt',sep='\\t')[['PRODUCTID','PRODUCTGROUPNAME']]"
   ]
  },
  {
   "cell_type": "markdown",
   "metadata": {},
   "source": [
    "The dataset contains the purchase history of the customers. In this document we only use the three variables: \n",
    "\n",
    "- `customer` : customer ID. This is originally called `householdid` in the dataset.\n",
    "- `category` : category of the item. There are 8 categories.\n",
    "- `item` : a product ID\n",
    "\n",
    "**We merge the multiple purchases of the items with the same product ID**. \n",
    "\n",
    "The following table describes all purchases in the dataset. \n",
    "\n",
    "Remark: By the second merging we lost records without householdid. This is OK because the customers without householdid have `customerid=0`, therefore we can not distinguish them. "
   ]
  },
  {
   "cell_type": "code",
   "execution_count": 3,
   "metadata": {
    "collapsed": false
   },
   "outputs": [],
   "source": [
    "#dg = pd.read_csv('purchase-data/orders.csv',sep='\\t')\n",
    "#dg[dg.customerid==0].groupby('customerid').size()"
   ]
  },
  {
   "cell_type": "code",
   "execution_count": 4,
   "metadata": {
    "collapsed": false
   },
   "outputs": [
    {
     "data": {
      "text/html": [
       "<div>\n",
       "<table border=\"1\" class=\"dataframe\">\n",
       "  <thead>\n",
       "    <tr style=\"text-align: right;\">\n",
       "      <th></th>\n",
       "      <th>customer</th>\n",
       "      <th>category</th>\n",
       "      <th>item</th>\n",
       "    </tr>\n",
       "  </thead>\n",
       "  <tbody>\n",
       "    <tr>\n",
       "      <th>0</th>\n",
       "      <td>18335614</td>\n",
       "      <td>BOOK</td>\n",
       "      <td>10834</td>\n",
       "    </tr>\n",
       "    <tr>\n",
       "      <th>1</th>\n",
       "      <td>36189356</td>\n",
       "      <td>BOOK</td>\n",
       "      <td>10834</td>\n",
       "    </tr>\n",
       "    <tr>\n",
       "      <th>2</th>\n",
       "      <td>36212313</td>\n",
       "      <td>BOOK</td>\n",
       "      <td>10834</td>\n",
       "    </tr>\n",
       "    <tr>\n",
       "      <th>3</th>\n",
       "      <td>20327232</td>\n",
       "      <td>BOOK</td>\n",
       "      <td>10834</td>\n",
       "    </tr>\n",
       "    <tr>\n",
       "      <th>4</th>\n",
       "      <td>20169475</td>\n",
       "      <td>BOOK</td>\n",
       "      <td>10834</td>\n",
       "    </tr>\n",
       "  </tbody>\n",
       "</table>\n",
       "</div>"
      ],
      "text/plain": [
       "   customer category   item\n",
       "0  18335614     BOOK  10834\n",
       "1  36189356     BOOK  10834\n",
       "2  36212313     BOOK  10834\n",
       "3  20327232     BOOK  10834\n",
       "4  20169475     BOOK  10834"
      ]
     },
     "execution_count": 4,
     "metadata": {},
     "output_type": "execute_result"
    }
   ],
   "source": [
    "df = pd.merge(df_orderlines,df_orders,on='orderid') ## add customerid\n",
    "df = pd.merge(df,df_customers,on='customerid')      ## add householdid\n",
    "df = pd.merge(df,df_products,left_on='productid',right_on='PRODUCTID') ## add PRODUCTGROUPNAME\n",
    "df = df[['householdid','PRODUCTGROUPNAME','productid']].copy()\n",
    "df.rename(columns={'householdid':'customer','PRODUCTGROUPNAME':'category','productid':'item'},\n",
    "          inplace=True)\n",
    "df.category = df.category.fillna('OTHER') ## fill NA\n",
    "df.to_csv('df_long.csv',index=False)\n",
    "df.head(5)"
   ]
  },
  {
   "cell_type": "markdown",
   "metadata": {},
   "source": [
    "To understand the dataset we see some simple two kinds of numbers. The one is: How many items are in each category?\n",
    "\n",
    "- The number of items in ARTWORK is very large in comparison with other categories.\n",
    "- BOOK and GAME follow ARTWORK. Other categories contain less than 100 items."
   ]
  },
  {
   "cell_type": "code",
   "execution_count": 5,
   "metadata": {
    "collapsed": false
   },
   "outputs": [
    {
     "data": {
      "text/plain": [
       "category\n",
       "APPAREL       86\n",
       "ARTWORK     3251\n",
       "BOOK         239\n",
       "CALENDAR      31\n",
       "FREEBIE       25\n",
       "GAME         231\n",
       "OCCASION      71\n",
       "OTHER         56\n",
       "dtype: int64"
      ]
     },
     "execution_count": 5,
     "metadata": {},
     "output_type": "execute_result"
    }
   ],
   "source": [
    "## How many items are in each category?\n",
    "df.groupby(['category','item']).size().reset_index().groupby('category').size()"
   ]
  },
  {
   "cell_type": "markdown",
   "metadata": {},
   "source": [
    "The another is: How many customers are in each category?\n",
    "\n",
    "- Even though the number of items in BOOK is very smaller than in ARTWORK, the number of customers in BOOK is largest. Around twice of the number of customers in ARTWORK.\n",
    "- A similar phenomenon also happens to CALENDAR and OCCASION."
   ]
  },
  {
   "cell_type": "code",
   "execution_count": 6,
   "metadata": {
    "collapsed": false
   },
   "outputs": [
    {
     "data": {
      "text/plain": [
       "category\n",
       "APPAREL      9934\n",
       "ARTWORK     38726\n",
       "BOOK        74422\n",
       "CALENDAR     6400\n",
       "FREEBIE     20698\n",
       "GAME        10699\n",
       "OCCASION    33730\n",
       "OTHER        4516\n",
       "dtype: int64"
      ]
     },
     "execution_count": 6,
     "metadata": {},
     "output_type": "execute_result"
    }
   ],
   "source": [
    "## number of customers in each category\n",
    "df.groupby(['category','customer']).size().reset_index().groupby('category').size()"
   ]
  },
  {
   "cell_type": "markdown",
   "metadata": {
    "collapsed": true
   },
   "source": [
    "## Out mission\n",
    "\n",
    "### What kind of recommender system do we construct?\n",
    "\n",
    "Let us assume that our shop is an online shop (like Amazon) and we want to show recommendations at the top page of the website. Thinking about the display, we are going to **recommend 5 items**.\n",
    "\n",
    "There are many kinds of recommender systems in an algorithm level. The famous ones are the user-based collaborative filtering (UBCF) and the item-based collaborative filtering (IBCF). We want to apply them, but there is a problem to solve: Both UBCF and IBCF are for ratings. \n",
    "\n",
    "A typical situation of applying UBCF/IBCF is following: Some customers give a rating (say 1 to 5) to items. Our task is to predict a rating of the items which a customer has not rated. (See the [image from Wikipedia](https://en.wikipedia.org/wiki/File:Collaborative_filtering.gif).)\n",
    "\n",
    "But we have a purchase history and no rating. What we know is: who buys which item. We may assume that a customer rates positively the items which he buys, but there are two cases for items which he does not buy.\n",
    "\n",
    "- He is not interested in the item (negarive rating).\n",
    "- He does not know the item (no rating).\n",
    "\n",
    "And we can not distinguish them from the dataset.\n",
    "\n",
    "So we assume that \n",
    "\n",
    "- If a customer buys nothing in the cateogry C, then he does not know anything about the category C. (no rating)\n",
    "- If a customer buys something in the category D, then he is not interested in the items in the category D except the items which he buys. (rating = 0)\n",
    "\n",
    "Therefore our mission is: **Make a recommendation of items in the categories which a customer does not know**."
   ]
  },
  {
   "cell_type": "markdown",
   "metadata": {},
   "source": [
    "### Make the mission clear by looking at our data\n",
    "\n",
    "By the following code we know that around 35,000 customers buy items in two or more categories. We use the purchase history of the customers to construct our recommender system."
   ]
  },
  {
   "cell_type": "code",
   "execution_count": 7,
   "metadata": {
    "collapsed": false
   },
   "outputs": [
    {
     "data": {
      "text/plain": [
       "1    121309\n",
       "2     28719\n",
       "3      4908\n",
       "4      1035\n",
       "5       227\n",
       "6        45\n",
       "7        11\n",
       "8         4\n",
       "dtype: int64"
      ]
     },
     "execution_count": 7,
     "metadata": {},
     "output_type": "execute_result"
    }
   ],
   "source": [
    "## In how many categories a customer buy products?\n",
    "df.groupby(['customer','category']).size().reset_index().groupby('customer').size().value_counts()"
   ]
  },
  {
   "cell_type": "markdown",
   "metadata": {},
   "source": [
    "The following table is just for the next code."
   ]
  },
  {
   "cell_type": "code",
   "execution_count": 8,
   "metadata": {
    "collapsed": false
   },
   "outputs": [
    {
     "data": {
      "text/html": [
       "<div>\n",
       "<table border=\"1\" class=\"dataframe\">\n",
       "  <thead>\n",
       "    <tr style=\"text-align: right;\">\n",
       "      <th>category</th>\n",
       "      <th>APPAREL</th>\n",
       "      <th>ARTWORK</th>\n",
       "      <th>BOOK</th>\n",
       "      <th>CALENDAR</th>\n",
       "      <th>FREEBIE</th>\n",
       "      <th>GAME</th>\n",
       "      <th>OCCASION</th>\n",
       "      <th>OTHER</th>\n",
       "    </tr>\n",
       "    <tr>\n",
       "      <th>customer</th>\n",
       "      <th></th>\n",
       "      <th></th>\n",
       "      <th></th>\n",
       "      <th></th>\n",
       "      <th></th>\n",
       "      <th></th>\n",
       "      <th></th>\n",
       "      <th></th>\n",
       "    </tr>\n",
       "  </thead>\n",
       "  <tbody>\n",
       "    <tr>\n",
       "      <th>18111926</th>\n",
       "      <td>0</td>\n",
       "      <td>1</td>\n",
       "      <td>0</td>\n",
       "      <td>0</td>\n",
       "      <td>0</td>\n",
       "      <td>0</td>\n",
       "      <td>0</td>\n",
       "      <td>0</td>\n",
       "    </tr>\n",
       "    <tr>\n",
       "      <th>18111966</th>\n",
       "      <td>0</td>\n",
       "      <td>0</td>\n",
       "      <td>1</td>\n",
       "      <td>0</td>\n",
       "      <td>0</td>\n",
       "      <td>0</td>\n",
       "      <td>0</td>\n",
       "      <td>0</td>\n",
       "    </tr>\n",
       "    <tr>\n",
       "      <th>18112052</th>\n",
       "      <td>0</td>\n",
       "      <td>0</td>\n",
       "      <td>0</td>\n",
       "      <td>1</td>\n",
       "      <td>1</td>\n",
       "      <td>0</td>\n",
       "      <td>0</td>\n",
       "      <td>0</td>\n",
       "    </tr>\n",
       "    <tr>\n",
       "      <th>18112318</th>\n",
       "      <td>0</td>\n",
       "      <td>0</td>\n",
       "      <td>1</td>\n",
       "      <td>0</td>\n",
       "      <td>0</td>\n",
       "      <td>0</td>\n",
       "      <td>0</td>\n",
       "      <td>0</td>\n",
       "    </tr>\n",
       "    <tr>\n",
       "      <th>18112322</th>\n",
       "      <td>0</td>\n",
       "      <td>0</td>\n",
       "      <td>1</td>\n",
       "      <td>0</td>\n",
       "      <td>1</td>\n",
       "      <td>0</td>\n",
       "      <td>0</td>\n",
       "      <td>0</td>\n",
       "    </tr>\n",
       "  </tbody>\n",
       "</table>\n",
       "</div>"
      ],
      "text/plain": [
       "category  APPAREL  ARTWORK  BOOK  CALENDAR  FREEBIE  GAME  OCCASION  OTHER\n",
       "customer                                                                  \n",
       "18111926        0        1     0         0        0     0         0      0\n",
       "18111966        0        0     1         0        0     0         0      0\n",
       "18112052        0        0     0         1        1     0         0      0\n",
       "18112318        0        0     1         0        0     0         0      0\n",
       "18112322        0        0     1         0        1     0         0      0"
      ]
     },
     "execution_count": 8,
     "metadata": {},
     "output_type": "execute_result"
    }
   ],
   "source": [
    "## the wide table of customer x category\n",
    "df_cats = df[['customer','category']].copy()\n",
    "df_cats['val'] = 1\n",
    "df_cats = df_cats.pivot_table(index='customer', columns='category', values='val',\n",
    "                              aggfunc=lambda x: 1, fill_value=0)\n",
    "df_cats.iloc[5:10,:]"
   ]
  },
  {
   "cell_type": "markdown",
   "metadata": {},
   "source": [
    "The following crosstab shows the number of customers in the corresponding categories. For example\n",
    "\n",
    "- 600 customers buy an item in APPAREL and an item in ARTWORK.\n",
    "- 1308 customers buy an item in APPAREL and an item in BOOK.\n",
    "- 38726 customers buy an item in ARTWORK.\n",
    "\n",
    "What we want to do is:\n",
    "\n",
    "- There are 9334 (=9934-600) customers who buy an item in APPAREL but no items in ARTWORK.\n",
    "- We want to recommend 5 items in ARTWORK to such customers.\n",
    "- To construct a recommender system we use the purchase history of the 600 customers."
   ]
  },
  {
   "cell_type": "code",
   "execution_count": 9,
   "metadata": {
    "collapsed": false
   },
   "outputs": [
    {
     "data": {
      "text/html": [
       "<div>\n",
       "<table border=\"1\" class=\"dataframe\">\n",
       "  <thead>\n",
       "    <tr style=\"text-align: right;\">\n",
       "      <th>category</th>\n",
       "      <th>APPAREL</th>\n",
       "      <th>ARTWORK</th>\n",
       "      <th>BOOK</th>\n",
       "      <th>CALENDAR</th>\n",
       "      <th>FREEBIE</th>\n",
       "      <th>GAME</th>\n",
       "      <th>OCCASION</th>\n",
       "      <th>OTHER</th>\n",
       "    </tr>\n",
       "    <tr>\n",
       "      <th>category</th>\n",
       "      <th></th>\n",
       "      <th></th>\n",
       "      <th></th>\n",
       "      <th></th>\n",
       "      <th></th>\n",
       "      <th></th>\n",
       "      <th></th>\n",
       "      <th></th>\n",
       "    </tr>\n",
       "  </thead>\n",
       "  <tbody>\n",
       "    <tr>\n",
       "      <th>APPAREL</th>\n",
       "      <td>9934</td>\n",
       "      <td>600</td>\n",
       "      <td>1308</td>\n",
       "      <td>294</td>\n",
       "      <td>1405</td>\n",
       "      <td>318</td>\n",
       "      <td>529</td>\n",
       "      <td>373</td>\n",
       "    </tr>\n",
       "    <tr>\n",
       "      <th>ARTWORK</th>\n",
       "      <td>600</td>\n",
       "      <td>38726</td>\n",
       "      <td>5691</td>\n",
       "      <td>393</td>\n",
       "      <td>4257</td>\n",
       "      <td>552</td>\n",
       "      <td>3781</td>\n",
       "      <td>644</td>\n",
       "    </tr>\n",
       "    <tr>\n",
       "      <th>BOOK</th>\n",
       "      <td>1308</td>\n",
       "      <td>5691</td>\n",
       "      <td>74422</td>\n",
       "      <td>1196</td>\n",
       "      <td>6982</td>\n",
       "      <td>1946</td>\n",
       "      <td>4892</td>\n",
       "      <td>1307</td>\n",
       "    </tr>\n",
       "    <tr>\n",
       "      <th>CALENDAR</th>\n",
       "      <td>294</td>\n",
       "      <td>393</td>\n",
       "      <td>1196</td>\n",
       "      <td>6400</td>\n",
       "      <td>943</td>\n",
       "      <td>354</td>\n",
       "      <td>420</td>\n",
       "      <td>270</td>\n",
       "    </tr>\n",
       "    <tr>\n",
       "      <th>FREEBIE</th>\n",
       "      <td>1405</td>\n",
       "      <td>4257</td>\n",
       "      <td>6982</td>\n",
       "      <td>943</td>\n",
       "      <td>20698</td>\n",
       "      <td>2925</td>\n",
       "      <td>8318</td>\n",
       "      <td>1335</td>\n",
       "    </tr>\n",
       "    <tr>\n",
       "      <th>GAME</th>\n",
       "      <td>318</td>\n",
       "      <td>552</td>\n",
       "      <td>1946</td>\n",
       "      <td>354</td>\n",
       "      <td>2925</td>\n",
       "      <td>10699</td>\n",
       "      <td>706</td>\n",
       "      <td>401</td>\n",
       "    </tr>\n",
       "    <tr>\n",
       "      <th>OCCASION</th>\n",
       "      <td>529</td>\n",
       "      <td>3781</td>\n",
       "      <td>4892</td>\n",
       "      <td>420</td>\n",
       "      <td>8318</td>\n",
       "      <td>706</td>\n",
       "      <td>33730</td>\n",
       "      <td>801</td>\n",
       "    </tr>\n",
       "    <tr>\n",
       "      <th>OTHER</th>\n",
       "      <td>373</td>\n",
       "      <td>644</td>\n",
       "      <td>1307</td>\n",
       "      <td>270</td>\n",
       "      <td>1335</td>\n",
       "      <td>401</td>\n",
       "      <td>801</td>\n",
       "      <td>4516</td>\n",
       "    </tr>\n",
       "  </tbody>\n",
       "</table>\n",
       "</div>"
      ],
      "text/plain": [
       "category  APPAREL  ARTWORK   BOOK  CALENDAR  FREEBIE   GAME  OCCASION  OTHER\n",
       "category                                                                    \n",
       "APPAREL      9934      600   1308       294     1405    318       529    373\n",
       "ARTWORK       600    38726   5691       393     4257    552      3781    644\n",
       "BOOK         1308     5691  74422      1196     6982   1946      4892   1307\n",
       "CALENDAR      294      393   1196      6400      943    354       420    270\n",
       "FREEBIE      1405     4257   6982       943    20698   2925      8318   1335\n",
       "GAME          318      552   1946       354     2925  10699       706    401\n",
       "OCCASION      529     3781   4892       420     8318    706     33730    801\n",
       "OTHER         373      644   1307       270     1335    401       801   4516"
      ]
     },
     "execution_count": 9,
     "metadata": {},
     "output_type": "execute_result"
    }
   ],
   "source": [
    "df_catxcat = pd.concat([df_cats[df_cats[cat]==1].apply(np.sum) for cat in df_cats.columns],axis=1)\n",
    "df_catxcat.columns = df_cats.columns\n",
    "df_catxcat"
   ]
  },
  {
   "cell_type": "markdown",
   "metadata": {},
   "source": [
    "The following table shows (very small part of) the customers who buy items in APPAREL and in ARTWORK. A recommender system which we want is nothing but a predictive model whose feature variable is APPAREL and target variable is ARTWORK."
   ]
  },
  {
   "cell_type": "code",
   "execution_count": 10,
   "metadata": {
    "collapsed": false
   },
   "outputs": [
    {
     "data": {
      "text/html": [
       "<div>\n",
       "<table border=\"1\" class=\"dataframe\">\n",
       "  <thead>\n",
       "    <tr style=\"text-align: right;\">\n",
       "      <th></th>\n",
       "      <th>customer</th>\n",
       "      <th>APPAREL</th>\n",
       "      <th>ARTWORK</th>\n",
       "    </tr>\n",
       "  </thead>\n",
       "  <tbody>\n",
       "    <tr>\n",
       "      <th>0</th>\n",
       "      <td>18133034</td>\n",
       "      <td>{11153}</td>\n",
       "      <td>{11009, 11054}</td>\n",
       "    </tr>\n",
       "    <tr>\n",
       "      <th>1</th>\n",
       "      <td>18140332</td>\n",
       "      <td>{10948, 10950}</td>\n",
       "      <td>{12511}</td>\n",
       "    </tr>\n",
       "    <tr>\n",
       "      <th>2</th>\n",
       "      <td>18148824</td>\n",
       "      <td>{13973}</td>\n",
       "      <td>{13317}</td>\n",
       "    </tr>\n",
       "    <tr>\n",
       "      <th>3</th>\n",
       "      <td>18155345</td>\n",
       "      <td>{13152, 11124}</td>\n",
       "      <td>{12237}</td>\n",
       "    </tr>\n",
       "    <tr>\n",
       "      <th>4</th>\n",
       "      <td>18159475</td>\n",
       "      <td>{11153}</td>\n",
       "      <td>{11054}</td>\n",
       "    </tr>\n",
       "  </tbody>\n",
       "</table>\n",
       "</div>"
      ],
      "text/plain": [
       "   customer         APPAREL         ARTWORK\n",
       "0  18133034         {11153}  {11009, 11054}\n",
       "1  18140332  {10948, 10950}         {12511}\n",
       "2  18148824         {13973}         {13317}\n",
       "3  18155345  {13152, 11124}         {12237}\n",
       "4  18159475         {11153}         {11054}"
      ]
     },
     "execution_count": 10,
     "metadata": {},
     "output_type": "execute_result"
    }
   ],
   "source": [
    "df_common = pd.merge(bcf.customer_in_cat(df,'APPAREL'), bcf.customer_in_cat(df,'ARTWORK'),\n",
    "                     on='customer')\n",
    "df_common.head()"
   ]
  },
  {
   "cell_type": "markdown",
   "metadata": {},
   "source": [
    "Remarks\n",
    "\n",
    "- Our training data is definitely biased in the sense that the customers who buys an item in ARTWORK are interested in items in ARTWORK. The customers who we show recommendations might not be interested in ARTWORK, because they have not bought anything in ARTWORK.\n",
    "- Because the purchase history has been taken for several years, most items in CALENDAR must be only for a specific year. But we ignore this fact."
   ]
  },
  {
   "cell_type": "markdown",
   "metadata": {
    "collapsed": false
   },
   "source": [
    "## Construct recommender systems\n",
    "\n",
    "### How to measure the performance of a recommender system\n",
    "\n",
    "When constructing a recommender system (or a predictive model), it is important to measure the performance of a trained model. Because our recommender system recommends 5 items, **the recommendation is success if any items which a customer buy is contained in the recommended items**. We use the success rate as the performance of a model.\n",
    "\n",
    "To illustrate our model we look at the customers who buy items in APPAREL and ARTWORK. We split the data into training set and test set and we use the latter to measure the performance.\n",
    "\n",
    "Remark: We measure the performance of the model by CV later. "
   ]
  },
  {
   "cell_type": "code",
   "execution_count": 11,
   "metadata": {
    "collapsed": false
   },
   "outputs": [],
   "source": [
    "from sklearn.cross_validation import train_test_split\n",
    "X_train,X_test,y_train,y_test = train_test_split(df_common, df_common.ARTWORK,\n",
    "                                                 test_size=0.2, random_state=4)\n",
    "df_train = X_train.copy() # data frame containing customer IDs\n",
    "df_test = X_test.copy() \n",
    "X_train = df_train.APPAREL # series of sets of products in APPAREL\n",
    "X_test = df_test.APPAREL"
   ]
  },
  {
   "cell_type": "markdown",
   "metadata": {},
   "source": [
    "### (Global) popular Items\n",
    "\n",
    "As the baseline we create a recommender system which recommends top 5 popular items. The top 5 items are easy to find."
   ]
  },
  {
   "cell_type": "code",
   "execution_count": 12,
   "metadata": {
    "collapsed": false
   },
   "outputs": [
    {
     "data": {
      "text/plain": [
       "{11009, 11048, 11053, 11054, 12511}"
      ]
     },
     "execution_count": 12,
     "metadata": {},
     "output_type": "execute_result"
    }
   ],
   "source": [
    "popular_items = bcf.get_popular_items(y_train)\n",
    "popular_items ## top 5 items in ARTWORK"
   ]
  },
  {
   "cell_type": "code",
   "execution_count": 13,
   "metadata": {
    "collapsed": false
   },
   "outputs": [
    {
     "data": {
      "text/html": [
       "<div>\n",
       "<table border=\"1\" class=\"dataframe\">\n",
       "  <thead>\n",
       "    <tr style=\"text-align: right;\">\n",
       "      <th></th>\n",
       "      <th>ARTWORK</th>\n",
       "      <th>success</th>\n",
       "    </tr>\n",
       "  </thead>\n",
       "  <tbody>\n",
       "    <tr>\n",
       "      <th>456</th>\n",
       "      <td>{11053}</td>\n",
       "      <td>True</td>\n",
       "    </tr>\n",
       "    <tr>\n",
       "      <th>360</th>\n",
       "      <td>{10012, 13317, 13372}</td>\n",
       "      <td>False</td>\n",
       "    </tr>\n",
       "    <tr>\n",
       "      <th>439</th>\n",
       "      <td>{11059, 11052}</td>\n",
       "      <td>False</td>\n",
       "    </tr>\n",
       "    <tr>\n",
       "      <th>174</th>\n",
       "      <td>{12825}</td>\n",
       "      <td>False</td>\n",
       "    </tr>\n",
       "    <tr>\n",
       "      <th>122</th>\n",
       "      <td>{11009}</td>\n",
       "      <td>True</td>\n",
       "    </tr>\n",
       "  </tbody>\n",
       "</table>\n",
       "</div>"
      ],
      "text/plain": [
       "                   ARTWORK success\n",
       "456                {11053}    True\n",
       "360  {10012, 13317, 13372}   False\n",
       "439         {11059, 11052}   False\n",
       "174                {12825}   False\n",
       "122                {11009}    True"
      ]
     },
     "execution_count": 13,
     "metadata": {},
     "output_type": "execute_result"
    }
   ],
   "source": [
    "df_compare = pd.DataFrame(y_train)\n",
    "df_compare['success'] = df_compare.ARTWORK.apply(lambda r: len(r.intersection(popular_items))>0)\n",
    "df_compare.tail()"
   ]
  },
  {
   "cell_type": "markdown",
   "metadata": {},
   "source": [
    "This recommender system does a quite good job and its success rate is 32.5%. Namely at least one item in the recommendation is bought by the customer at probability 32.5%.\n",
    "\n",
    "Remark: This *does not mean* that a customer who buys nothing in ARTWORK will be interested in the recommendation at probability 32.5%."
   ]
  },
  {
   "cell_type": "code",
   "execution_count": 14,
   "metadata": {
    "collapsed": false
   },
   "outputs": [
    {
     "data": {
      "text/plain": [
       "0.32500000000000001"
      ]
     },
     "execution_count": 14,
     "metadata": {},
     "output_type": "execute_result"
    }
   ],
   "source": [
    "## using popular items \n",
    "y_test.apply(lambda x: len(x.intersection(popular_items))>0).mean()"
   ]
  },
  {
   "cell_type": "markdown",
   "metadata": {},
   "source": [
    "### User-based collaborative filtering (UBCF)\n",
    "\n",
    "The idea of the UBCF is: to recommend items which similar customers buy.\n",
    "\n",
    "#### How to compute the similarity of two customers\n",
    "\n",
    "Use the purchase history!\n",
    "\n",
    "Let us look at small part of the purchase history. In the following table each row describes a customer and each column describes an item. Namely each row describes the items which the customer buys.\n",
    "\n",
    "- The customers 112, 138 and 339 are similar because their purchase history is the same.\n",
    "- The customer 14 and 112 are not similar, because they have no common items.\n",
    "- The customer 513 and 556 are quite similar because they buy the item 11016."
   ]
  },
  {
   "cell_type": "code",
   "execution_count": 15,
   "metadata": {
    "collapsed": false
   },
   "outputs": [
    {
     "data": {
      "text/html": [
       "<div>\n",
       "<table border=\"1\" class=\"dataframe\">\n",
       "  <thead>\n",
       "    <tr style=\"text-align: right;\">\n",
       "      <th>item</th>\n",
       "      <th>10948</th>\n",
       "      <th>11016</th>\n",
       "      <th>11153</th>\n",
       "      <th>11155</th>\n",
       "      <th>12510</th>\n",
       "      <th>13144</th>\n",
       "      <th>13149</th>\n",
       "      <th>13963</th>\n",
       "      <th>13973</th>\n",
       "    </tr>\n",
       "    <tr>\n",
       "      <th>customer</th>\n",
       "      <th></th>\n",
       "      <th></th>\n",
       "      <th></th>\n",
       "      <th></th>\n",
       "      <th></th>\n",
       "      <th></th>\n",
       "      <th></th>\n",
       "      <th></th>\n",
       "      <th></th>\n",
       "    </tr>\n",
       "  </thead>\n",
       "  <tbody>\n",
       "    <tr>\n",
       "      <th>14</th>\n",
       "      <td>0</td>\n",
       "      <td>0</td>\n",
       "      <td>0</td>\n",
       "      <td>0</td>\n",
       "      <td>0</td>\n",
       "      <td>1</td>\n",
       "      <td>0</td>\n",
       "      <td>0</td>\n",
       "      <td>0</td>\n",
       "    </tr>\n",
       "    <tr>\n",
       "      <th>112</th>\n",
       "      <td>0</td>\n",
       "      <td>0</td>\n",
       "      <td>1</td>\n",
       "      <td>0</td>\n",
       "      <td>0</td>\n",
       "      <td>0</td>\n",
       "      <td>0</td>\n",
       "      <td>0</td>\n",
       "      <td>0</td>\n",
       "    </tr>\n",
       "    <tr>\n",
       "      <th>117</th>\n",
       "      <td>0</td>\n",
       "      <td>0</td>\n",
       "      <td>0</td>\n",
       "      <td>0</td>\n",
       "      <td>1</td>\n",
       "      <td>0</td>\n",
       "      <td>0</td>\n",
       "      <td>0</td>\n",
       "      <td>0</td>\n",
       "    </tr>\n",
       "    <tr>\n",
       "      <th>138</th>\n",
       "      <td>0</td>\n",
       "      <td>0</td>\n",
       "      <td>1</td>\n",
       "      <td>0</td>\n",
       "      <td>0</td>\n",
       "      <td>0</td>\n",
       "      <td>0</td>\n",
       "      <td>0</td>\n",
       "      <td>0</td>\n",
       "    </tr>\n",
       "    <tr>\n",
       "      <th>336</th>\n",
       "      <td>0</td>\n",
       "      <td>1</td>\n",
       "      <td>0</td>\n",
       "      <td>0</td>\n",
       "      <td>0</td>\n",
       "      <td>0</td>\n",
       "      <td>0</td>\n",
       "      <td>0</td>\n",
       "      <td>0</td>\n",
       "    </tr>\n",
       "    <tr>\n",
       "      <th>369</th>\n",
       "      <td>0</td>\n",
       "      <td>0</td>\n",
       "      <td>0</td>\n",
       "      <td>1</td>\n",
       "      <td>0</td>\n",
       "      <td>0</td>\n",
       "      <td>0</td>\n",
       "      <td>0</td>\n",
       "      <td>0</td>\n",
       "    </tr>\n",
       "    <tr>\n",
       "      <th>399</th>\n",
       "      <td>0</td>\n",
       "      <td>0</td>\n",
       "      <td>1</td>\n",
       "      <td>0</td>\n",
       "      <td>0</td>\n",
       "      <td>0</td>\n",
       "      <td>0</td>\n",
       "      <td>0</td>\n",
       "      <td>0</td>\n",
       "    </tr>\n",
       "    <tr>\n",
       "      <th>513</th>\n",
       "      <td>0</td>\n",
       "      <td>1</td>\n",
       "      <td>0</td>\n",
       "      <td>0</td>\n",
       "      <td>0</td>\n",
       "      <td>0</td>\n",
       "      <td>0</td>\n",
       "      <td>0</td>\n",
       "      <td>0</td>\n",
       "    </tr>\n",
       "    <tr>\n",
       "      <th>556</th>\n",
       "      <td>1</td>\n",
       "      <td>1</td>\n",
       "      <td>0</td>\n",
       "      <td>0</td>\n",
       "      <td>0</td>\n",
       "      <td>0</td>\n",
       "      <td>1</td>\n",
       "      <td>0</td>\n",
       "      <td>0</td>\n",
       "    </tr>\n",
       "    <tr>\n",
       "      <th>595</th>\n",
       "      <td>0</td>\n",
       "      <td>0</td>\n",
       "      <td>0</td>\n",
       "      <td>0</td>\n",
       "      <td>0</td>\n",
       "      <td>0</td>\n",
       "      <td>0</td>\n",
       "      <td>1</td>\n",
       "      <td>1</td>\n",
       "    </tr>\n",
       "  </tbody>\n",
       "</table>\n",
       "</div>"
      ],
      "text/plain": [
       "item     10948 11016 11153 11155 12510 13144 13149 13963 13973\n",
       "customer                                                      \n",
       "14           0     0     0     0     0     1     0     0     0\n",
       "112          0     0     1     0     0     0     0     0     0\n",
       "117          0     0     0     0     1     0     0     0     0\n",
       "138          0     0     1     0     0     0     0     0     0\n",
       "336          0     1     0     0     0     0     0     0     0\n",
       "369          0     0     0     1     0     0     0     0     0\n",
       "399          0     0     1     0     0     0     0     0     0\n",
       "513          0     1     0     0     0     0     0     0     0\n",
       "556          1     1     0     0     0     0     1     0     0\n",
       "595          0     0     0     0     0     0     0     1     1"
      ]
     },
     "execution_count": 15,
     "metadata": {},
     "output_type": "execute_result"
    }
   ],
   "source": [
    "df_tmp = defaultdict(list)\n",
    "df_head = pd.DataFrame(X_train[:10]).reset_index()\n",
    "for i in range(df_head.shape[0]):\n",
    "    row = df_head.iloc[i]\n",
    "    for x in row[1]:\n",
    "        df_tmp['customer'].append(row[0])\n",
    "        df_tmp['item'].append(x)\n",
    "\n",
    "df_tmp = pd.DataFrame(df_tmp,columns=['customer','item'])\n",
    "df_tmp['val'] = '1'\n",
    "df_tmp.pivot(index='customer',columns='item',values='val').fillna('0')"
   ]
  },
  {
   "cell_type": "markdown",
   "metadata": {},
   "source": [
    "So we describe a customer with his purchase history. In our case it is a binary vector. Here are two vectors corresponding to two customers:\n",
    "\n",
    "$$\\vec u = (u_1, \\cdots, u_n) = (0,1,0,0,0,1,0,0,\\cdots,0),$$ \n",
    "$$\\vec v = (v_1, \\cdots, v_n) = (1,0,0,0,1,1,1,0,\\cdots,0).$$\n",
    "\n",
    "There are several ways to measure the similarity degree of two customers:\n",
    "\n",
    "- common similarity: the number of the common items. It can be calculated by the dot product $\\vec u \\cdot \\vec v$.\n",
    "- cosine similarity: cosine of the angle of the two vectors. The *normalised common similarity* in the sense that it is given by $\\vec u \\cdot \\vec v / (|\\vec u||\\vec v|)$.\n",
    "- correlation: the ordinary correlation of two vectors. Or the cosine similarity of the centered vectors.\n",
    "- distance: for example Euclidean metric.\n",
    "\n",
    "Here we choose the common similarity. (We also use the cosine similarity later.)"
   ]
  },
  {
   "cell_type": "markdown",
   "metadata": {},
   "source": [
    "#### How to make a recommendation\n",
    "\n",
    "Given a customer, we make a recommendation as follows.\n",
    "\n",
    "1. Compute the similarity degree between the customer and each customer in the training set.\n",
    "2. Pick the $k$ nearest customers. ($k$ is arbitrary, say 30.)\n",
    "3. Add up the vectors corresponding the nearest customers. (The sum describes the frequency of items.)\n",
    "4. Pick the items corresponding to the 5 largest components of the sum.\n",
    "\n",
    "The picked 5 items are nothing but the 5 most popular items among the similar customers. (So UBCF is a *local* popular item model.)"
   ]
  },
  {
   "cell_type": "code",
   "execution_count": 16,
   "metadata": {
    "collapsed": false
   },
   "outputs": [
    {
     "data": {
      "text/html": [
       "<div>\n",
       "<table border=\"1\" class=\"dataframe\">\n",
       "  <thead>\n",
       "    <tr style=\"text-align: right;\">\n",
       "      <th></th>\n",
       "      <th>Recommendation</th>\n",
       "      <th>Purchased_item</th>\n",
       "      <th>success</th>\n",
       "    </tr>\n",
       "  </thead>\n",
       "  <tbody>\n",
       "    <tr>\n",
       "      <th>480</th>\n",
       "      <td>{10640, 11009, 10795, 13317, 13981}</td>\n",
       "      <td>{11832, 11536}</td>\n",
       "      <td>False</td>\n",
       "    </tr>\n",
       "    <tr>\n",
       "      <th>213</th>\n",
       "      <td>{12171, 11043, 13317, 13454, 12511}</td>\n",
       "      <td>{10538}</td>\n",
       "      <td>False</td>\n",
       "    </tr>\n",
       "    <tr>\n",
       "      <th>467</th>\n",
       "      <td>{11048, 11023, 11052, 11054, 11047}</td>\n",
       "      <td>{10772, 11838}</td>\n",
       "      <td>False</td>\n",
       "    </tr>\n",
       "    <tr>\n",
       "      <th>379</th>\n",
       "      <td>{11048, 11009, 12826, 11053, 10109}</td>\n",
       "      <td>{11009}</td>\n",
       "      <td>True</td>\n",
       "    </tr>\n",
       "    <tr>\n",
       "      <th>579</th>\n",
       "      <td>{11053, 13623, 13317, 13981, 12511}</td>\n",
       "      <td>{13623}</td>\n",
       "      <td>True</td>\n",
       "    </tr>\n",
       "  </tbody>\n",
       "</table>\n",
       "</div>"
      ],
      "text/plain": [
       "                          Recommendation  Purchased_item success\n",
       "480  {10640, 11009, 10795, 13317, 13981}  {11832, 11536}   False\n",
       "213  {12171, 11043, 13317, 13454, 12511}         {10538}   False\n",
       "467  {11048, 11023, 11052, 11054, 11047}  {10772, 11838}   False\n",
       "379  {11048, 11009, 12826, 11053, 10109}         {11009}    True\n",
       "579  {11053, 13623, 13317, 13981, 12511}         {13623}    True"
      ]
     },
     "execution_count": 16,
     "metadata": {},
     "output_type": "execute_result"
    }
   ],
   "source": [
    "yhat = X_test.apply(lambda x: bcf.ubcf(x,X_train,y_train,k=30)) ## make a recommendation\n",
    "df_compare = pd.concat([yhat,y_test],axis=1).rename(\n",
    "                columns={'APPAREL':'Recommendation','ARTWORK':'Purchased_item'})\n",
    "df_compare['success'] = df_compare.apply(lambda r:len(set.intersection(r[0],r[1]))>0,axis=1)\n",
    "df_compare.tail()"
   ]
  },
  {
   "cell_type": "markdown",
   "metadata": {},
   "source": [
    "The success rate is better than the \"global popular items\" model. It achieves 38.3%. "
   ]
  },
  {
   "cell_type": "code",
   "execution_count": 17,
   "metadata": {
    "collapsed": false
   },
   "outputs": [
    {
     "data": {
      "text/plain": [
       "0.38333333333333336"
      ]
     },
     "execution_count": 17,
     "metadata": {},
     "output_type": "execute_result"
    }
   ],
   "source": [
    "## User-based collaborative filtering\n",
    "bcf.success_rate(yhat,y_test)"
   ]
  },
  {
   "cell_type": "markdown",
   "metadata": {},
   "source": [
    "Remark: UBCF requires much calculation (for similarity degree) when making a recommendation."
   ]
  },
  {
   "cell_type": "markdown",
   "metadata": {},
   "source": [
    "### Item-based collaborative filtering (IBCF)\n",
    "\n",
    "The idea of IBCF is: to recommend items which are similar to the items which the customer buys.\n",
    "\n",
    "#### How to compute the similarity of two items\n",
    "\n",
    "Use the purchase history!\n",
    "\n",
    "The calculation is very similar to the similarity of two customers. Let us look at the following table which is the same as above. We describe an item as a column vector corresponding to the item. For example the items 10948 and 13149 are very similar.\n",
    "\n",
    "We can use the same formulas to compute the similarity degree."
   ]
  },
  {
   "cell_type": "code",
   "execution_count": 18,
   "metadata": {
    "collapsed": false
   },
   "outputs": [
    {
     "data": {
      "text/html": [
       "<div>\n",
       "<table border=\"1\" class=\"dataframe\">\n",
       "  <thead>\n",
       "    <tr style=\"text-align: right;\">\n",
       "      <th>item</th>\n",
       "      <th>10948</th>\n",
       "      <th>11016</th>\n",
       "      <th>11153</th>\n",
       "      <th>11155</th>\n",
       "      <th>12510</th>\n",
       "      <th>13144</th>\n",
       "      <th>13149</th>\n",
       "      <th>13963</th>\n",
       "      <th>13973</th>\n",
       "    </tr>\n",
       "    <tr>\n",
       "      <th>customer</th>\n",
       "      <th></th>\n",
       "      <th></th>\n",
       "      <th></th>\n",
       "      <th></th>\n",
       "      <th></th>\n",
       "      <th></th>\n",
       "      <th></th>\n",
       "      <th></th>\n",
       "      <th></th>\n",
       "    </tr>\n",
       "  </thead>\n",
       "  <tbody>\n",
       "    <tr>\n",
       "      <th>14</th>\n",
       "      <td>0</td>\n",
       "      <td>0</td>\n",
       "      <td>0</td>\n",
       "      <td>0</td>\n",
       "      <td>0</td>\n",
       "      <td>1</td>\n",
       "      <td>0</td>\n",
       "      <td>0</td>\n",
       "      <td>0</td>\n",
       "    </tr>\n",
       "    <tr>\n",
       "      <th>112</th>\n",
       "      <td>0</td>\n",
       "      <td>0</td>\n",
       "      <td>1</td>\n",
       "      <td>0</td>\n",
       "      <td>0</td>\n",
       "      <td>0</td>\n",
       "      <td>0</td>\n",
       "      <td>0</td>\n",
       "      <td>0</td>\n",
       "    </tr>\n",
       "    <tr>\n",
       "      <th>117</th>\n",
       "      <td>0</td>\n",
       "      <td>0</td>\n",
       "      <td>0</td>\n",
       "      <td>0</td>\n",
       "      <td>1</td>\n",
       "      <td>0</td>\n",
       "      <td>0</td>\n",
       "      <td>0</td>\n",
       "      <td>0</td>\n",
       "    </tr>\n",
       "    <tr>\n",
       "      <th>138</th>\n",
       "      <td>0</td>\n",
       "      <td>0</td>\n",
       "      <td>1</td>\n",
       "      <td>0</td>\n",
       "      <td>0</td>\n",
       "      <td>0</td>\n",
       "      <td>0</td>\n",
       "      <td>0</td>\n",
       "      <td>0</td>\n",
       "    </tr>\n",
       "    <tr>\n",
       "      <th>336</th>\n",
       "      <td>0</td>\n",
       "      <td>1</td>\n",
       "      <td>0</td>\n",
       "      <td>0</td>\n",
       "      <td>0</td>\n",
       "      <td>0</td>\n",
       "      <td>0</td>\n",
       "      <td>0</td>\n",
       "      <td>0</td>\n",
       "    </tr>\n",
       "    <tr>\n",
       "      <th>369</th>\n",
       "      <td>0</td>\n",
       "      <td>0</td>\n",
       "      <td>0</td>\n",
       "      <td>1</td>\n",
       "      <td>0</td>\n",
       "      <td>0</td>\n",
       "      <td>0</td>\n",
       "      <td>0</td>\n",
       "      <td>0</td>\n",
       "    </tr>\n",
       "    <tr>\n",
       "      <th>399</th>\n",
       "      <td>0</td>\n",
       "      <td>0</td>\n",
       "      <td>1</td>\n",
       "      <td>0</td>\n",
       "      <td>0</td>\n",
       "      <td>0</td>\n",
       "      <td>0</td>\n",
       "      <td>0</td>\n",
       "      <td>0</td>\n",
       "    </tr>\n",
       "    <tr>\n",
       "      <th>513</th>\n",
       "      <td>0</td>\n",
       "      <td>1</td>\n",
       "      <td>0</td>\n",
       "      <td>0</td>\n",
       "      <td>0</td>\n",
       "      <td>0</td>\n",
       "      <td>0</td>\n",
       "      <td>0</td>\n",
       "      <td>0</td>\n",
       "    </tr>\n",
       "    <tr>\n",
       "      <th>556</th>\n",
       "      <td>1</td>\n",
       "      <td>1</td>\n",
       "      <td>0</td>\n",
       "      <td>0</td>\n",
       "      <td>0</td>\n",
       "      <td>0</td>\n",
       "      <td>1</td>\n",
       "      <td>0</td>\n",
       "      <td>0</td>\n",
       "    </tr>\n",
       "    <tr>\n",
       "      <th>595</th>\n",
       "      <td>0</td>\n",
       "      <td>0</td>\n",
       "      <td>0</td>\n",
       "      <td>0</td>\n",
       "      <td>0</td>\n",
       "      <td>0</td>\n",
       "      <td>0</td>\n",
       "      <td>1</td>\n",
       "      <td>1</td>\n",
       "    </tr>\n",
       "  </tbody>\n",
       "</table>\n",
       "</div>"
      ],
      "text/plain": [
       "item     10948 11016 11153 11155 12510 13144 13149 13963 13973\n",
       "customer                                                      \n",
       "14           0     0     0     0     0     1     0     0     0\n",
       "112          0     0     1     0     0     0     0     0     0\n",
       "117          0     0     0     0     1     0     0     0     0\n",
       "138          0     0     1     0     0     0     0     0     0\n",
       "336          0     1     0     0     0     0     0     0     0\n",
       "369          0     0     0     1     0     0     0     0     0\n",
       "399          0     0     1     0     0     0     0     0     0\n",
       "513          0     1     0     0     0     0     0     0     0\n",
       "556          1     1     0     0     0     0     1     0     0\n",
       "595          0     0     0     0     0     0     0     1     1"
      ]
     },
     "execution_count": 18,
     "metadata": {},
     "output_type": "execute_result"
    }
   ],
   "source": [
    "df_tmp.pivot(index='customer',columns='item',values='val').fillna('0') ## the same as before!"
   ]
  },
  {
   "cell_type": "markdown",
   "metadata": {},
   "source": [
    "#### How to make a recommendation\n",
    "\n",
    "Given a customer, we make a recommendation as follows.\n",
    "\n",
    "1. Compute the similarity of all items in APPAREL (feature) and items in ARTWORK (target).\n",
    "2. Get a list of $k$ similar items for each item which the customer buys. ($k \\geq 5$)\n",
    "3. Combine the lists.\n",
    "4. Find the 5 most frequent items in the lists.\n",
    "\n",
    "While the idea of IBCF is very similar to UBCF, the way to make a recommendation is slightly different. The reason is that we recommend items, not users.\n",
    "\n",
    "Here is a small example: Assume that the customer buys items a, b and c and lists of similar items are [i,j,k], [i,k,l], [k,m,n]. Then the 2 most frequent items are k and l and we recommend them."
   ]
  },
  {
   "cell_type": "code",
   "execution_count": 19,
   "metadata": {
    "collapsed": true
   },
   "outputs": [],
   "source": [
    "similar_ibcfs = bcf.compute_similar_items(df_train,k=10) ## step 1"
   ]
  },
  {
   "cell_type": "markdown",
   "metadata": {},
   "source": [
    "The success rate of the IBCF is slightly better than UBCF. Namely the best recommender system so far."
   ]
  },
  {
   "cell_type": "code",
   "execution_count": 20,
   "metadata": {
    "collapsed": false
   },
   "outputs": [
    {
     "data": {
      "text/plain": [
       "0.39166666666666666"
      ]
     },
     "execution_count": 20,
     "metadata": {},
     "output_type": "execute_result"
    }
   ],
   "source": [
    "yhat = X_test.apply(lambda x: bcf.ibcf(x,similar_ibcfs)) ## make a recommendation\n",
    "bcf.success_rate(yhat,y_test)"
   ]
  },
  {
   "cell_type": "markdown",
   "metadata": {},
   "source": [
    "Remark: The calculation of similarities takes some time, but we can calculate them in advance so that we can immediately make a recommendation. This is the big advantage of IBCF in comparison with UBCF."
   ]
  },
  {
   "cell_type": "markdown",
   "metadata": {},
   "source": [
    "## Compare recommender systems\n",
    "\n",
    "We construct recommender systems for all possible pairs of categories. The following table shows that the best recommender system for each pair. The success rates are computed by 3-fold cross validation. \n",
    "\n",
    "Description of the columns:\n",
    "\n",
    "- train: average of the success rates on the training sets\n",
    "- cv: average of the success rates on the validation sets\n",
    "- method: global popular items, UBCF or IBCF\n",
    "- k: number of similar users/items to make a recommendation\n",
    "- metric: formula for similarity degree: common similarity or cosine similarity\n",
    "\n",
    "The success rate was computed by using the script `recom_cf.py`, which can be found in the same repository as this document. \n",
    "\n",
    "Remarks\n",
    "\n",
    "- It takes almost one day to execute the script. This is the reason why we use 3-fold CV (rather than 5-fold CV).\n",
    "- The values of k and metric of the rows for popular method in the following table are nonsense. (This is due to the library pandas.)"
   ]
  },
  {
   "cell_type": "code",
   "execution_count": 21,
   "metadata": {
    "collapsed": false
   },
   "outputs": [],
   "source": [
    "df_result_cf = pd.read_csv('recom_result.csv')"
   ]
  },
  {
   "cell_type": "code",
   "execution_count": 22,
   "metadata": {
    "collapsed": false
   },
   "outputs": [
    {
     "data": {
      "text/html": [
       "<div>\n",
       "<table border=\"1\" class=\"dataframe\">\n",
       "  <thead>\n",
       "    <tr style=\"text-align: right;\">\n",
       "      <th></th>\n",
       "      <th></th>\n",
       "      <th>cv</th>\n",
       "      <th>k</th>\n",
       "      <th>method</th>\n",
       "      <th>metric</th>\n",
       "      <th>train</th>\n",
       "    </tr>\n",
       "    <tr>\n",
       "      <th>cat1</th>\n",
       "      <th>cat2</th>\n",
       "      <th></th>\n",
       "      <th></th>\n",
       "      <th></th>\n",
       "      <th></th>\n",
       "      <th></th>\n",
       "    </tr>\n",
       "  </thead>\n",
       "  <tbody>\n",
       "    <tr>\n",
       "      <th rowspan=\"7\" valign=\"top\">APPAREL</th>\n",
       "      <th>ARTWORK</th>\n",
       "      <td>0.405000</td>\n",
       "      <td>50.0</td>\n",
       "      <td>IBCF</td>\n",
       "      <td>common</td>\n",
       "      <td>0.551250</td>\n",
       "    </tr>\n",
       "    <tr>\n",
       "      <th>BOOK</th>\n",
       "      <td>0.337905</td>\n",
       "      <td>10.0</td>\n",
       "      <td>IBCF</td>\n",
       "      <td>common</td>\n",
       "      <td>0.475157</td>\n",
       "    </tr>\n",
       "    <tr>\n",
       "      <th>CALENDAR</th>\n",
       "      <td>0.558036</td>\n",
       "      <td>50.0</td>\n",
       "      <td>UBCF</td>\n",
       "      <td>cosine</td>\n",
       "      <td>0.757627</td>\n",
       "    </tr>\n",
       "    <tr>\n",
       "      <th>FREEBIE</th>\n",
       "      <td>0.997034</td>\n",
       "      <td>50.0</td>\n",
       "      <td>popular</td>\n",
       "      <td>cosine</td>\n",
       "      <td>0.996293</td>\n",
       "    </tr>\n",
       "    <tr>\n",
       "      <th>GAME</th>\n",
       "      <td>0.308036</td>\n",
       "      <td>30.0</td>\n",
       "      <td>IBCF</td>\n",
       "      <td>common</td>\n",
       "      <td>0.636786</td>\n",
       "    </tr>\n",
       "    <tr>\n",
       "      <th>OCCASION</th>\n",
       "      <td>0.517902</td>\n",
       "      <td>30.0</td>\n",
       "      <td>popular</td>\n",
       "      <td>common</td>\n",
       "      <td>0.525536</td>\n",
       "    </tr>\n",
       "    <tr>\n",
       "      <th>OTHER</th>\n",
       "      <td>0.404973</td>\n",
       "      <td>30.0</td>\n",
       "      <td>UBCF</td>\n",
       "      <td>cosine</td>\n",
       "      <td>0.775484</td>\n",
       "    </tr>\n",
       "    <tr>\n",
       "      <th rowspan=\"7\" valign=\"top\">ARTWORK</th>\n",
       "      <th>APPAREL</th>\n",
       "      <td>0.645167</td>\n",
       "      <td>30.0</td>\n",
       "      <td>popular</td>\n",
       "      <td>common</td>\n",
       "      <td>0.636625</td>\n",
       "    </tr>\n",
       "    <tr>\n",
       "      <th>BOOK</th>\n",
       "      <td>0.591459</td>\n",
       "      <td>50.0</td>\n",
       "      <td>UBCF</td>\n",
       "      <td>cosine</td>\n",
       "      <td>0.793007</td>\n",
       "    </tr>\n",
       "    <tr>\n",
       "      <th>CALENDAR</th>\n",
       "      <td>0.447907</td>\n",
       "      <td>30.0</td>\n",
       "      <td>UBCF</td>\n",
       "      <td>common</td>\n",
       "      <td>0.856872</td>\n",
       "    </tr>\n",
       "    <tr>\n",
       "      <th>FREEBIE</th>\n",
       "      <td>0.993025</td>\n",
       "      <td>50.0</td>\n",
       "      <td>popular</td>\n",
       "      <td>cosine</td>\n",
       "      <td>0.991172</td>\n",
       "    </tr>\n",
       "    <tr>\n",
       "      <th>GAME</th>\n",
       "      <td>0.436456</td>\n",
       "      <td>30.0</td>\n",
       "      <td>popular</td>\n",
       "      <td>cosine</td>\n",
       "      <td>0.433471</td>\n",
       "    </tr>\n",
       "    <tr>\n",
       "      <th>OCCASION</th>\n",
       "      <td>0.679712</td>\n",
       "      <td>10.0</td>\n",
       "      <td>IBCF</td>\n",
       "      <td>common</td>\n",
       "      <td>0.827625</td>\n",
       "    </tr>\n",
       "    <tr>\n",
       "      <th>OTHER</th>\n",
       "      <td>0.560514</td>\n",
       "      <td>50.0</td>\n",
       "      <td>UBCF</td>\n",
       "      <td>cosine</td>\n",
       "      <td>0.881986</td>\n",
       "    </tr>\n",
       "    <tr>\n",
       "      <th rowspan=\"7\" valign=\"top\">BOOK</th>\n",
       "      <th>APPAREL</th>\n",
       "      <td>0.637080</td>\n",
       "      <td>10.0</td>\n",
       "      <td>popular</td>\n",
       "      <td>common</td>\n",
       "      <td>0.617669</td>\n",
       "    </tr>\n",
       "    <tr>\n",
       "      <th>ARTWORK</th>\n",
       "      <td>0.604111</td>\n",
       "      <td>30.0</td>\n",
       "      <td>IBCF</td>\n",
       "      <td>common</td>\n",
       "      <td>0.648831</td>\n",
       "    </tr>\n",
       "    <tr>\n",
       "      <th>CALENDAR</th>\n",
       "      <td>0.611220</td>\n",
       "      <td>30.0</td>\n",
       "      <td>UBCF</td>\n",
       "      <td>cosine</td>\n",
       "      <td>0.837378</td>\n",
       "    </tr>\n",
       "    <tr>\n",
       "      <th>FREEBIE</th>\n",
       "      <td>0.995124</td>\n",
       "      <td>30.0</td>\n",
       "      <td>popular</td>\n",
       "      <td>common</td>\n",
       "      <td>0.995132</td>\n",
       "    </tr>\n",
       "    <tr>\n",
       "      <th>GAME</th>\n",
       "      <td>0.374625</td>\n",
       "      <td>50.0</td>\n",
       "      <td>IBCF</td>\n",
       "      <td>common</td>\n",
       "      <td>0.561665</td>\n",
       "    </tr>\n",
       "    <tr>\n",
       "      <th>OCCASION</th>\n",
       "      <td>0.596280</td>\n",
       "      <td>50.0</td>\n",
       "      <td>IBCF</td>\n",
       "      <td>common</td>\n",
       "      <td>0.662766</td>\n",
       "    </tr>\n",
       "    <tr>\n",
       "      <th>OTHER</th>\n",
       "      <td>0.639630</td>\n",
       "      <td>50.0</td>\n",
       "      <td>UBCF</td>\n",
       "      <td>cosine</td>\n",
       "      <td>0.860939</td>\n",
       "    </tr>\n",
       "    <tr>\n",
       "      <th rowspan=\"7\" valign=\"top\">CALENDAR</th>\n",
       "      <th>APPAREL</th>\n",
       "      <td>0.606137</td>\n",
       "      <td>50.0</td>\n",
       "      <td>UBCF</td>\n",
       "      <td>cosine</td>\n",
       "      <td>0.823996</td>\n",
       "    </tr>\n",
       "    <tr>\n",
       "      <th>ARTWORK</th>\n",
       "      <td>0.351152</td>\n",
       "      <td>30.0</td>\n",
       "      <td>UBCF</td>\n",
       "      <td>cosine</td>\n",
       "      <td>0.596071</td>\n",
       "    </tr>\n",
       "    <tr>\n",
       "      <th>BOOK</th>\n",
       "      <td>0.476614</td>\n",
       "      <td>30.0</td>\n",
       "      <td>IBCF</td>\n",
       "      <td>common</td>\n",
       "      <td>0.553513</td>\n",
       "    </tr>\n",
       "    <tr>\n",
       "      <th>FREEBIE</th>\n",
       "      <td>0.994263</td>\n",
       "      <td>50.0</td>\n",
       "      <td>popular</td>\n",
       "      <td>common</td>\n",
       "      <td>0.995474</td>\n",
       "    </tr>\n",
       "    <tr>\n",
       "      <th>GAME</th>\n",
       "      <td>0.505674</td>\n",
       "      <td>30.0</td>\n",
       "      <td>UBCF</td>\n",
       "      <td>cosine</td>\n",
       "      <td>0.753531</td>\n",
       "    </tr>\n",
       "    <tr>\n",
       "      <th>OCCASION</th>\n",
       "      <td>0.450000</td>\n",
       "      <td>30.0</td>\n",
       "      <td>UBCF</td>\n",
       "      <td>cosine</td>\n",
       "      <td>0.692857</td>\n",
       "    </tr>\n",
       "    <tr>\n",
       "      <th>OTHER</th>\n",
       "      <td>0.622222</td>\n",
       "      <td>30.0</td>\n",
       "      <td>UBCF</td>\n",
       "      <td>cosine</td>\n",
       "      <td>0.889815</td>\n",
       "    </tr>\n",
       "    <tr>\n",
       "      <th rowspan=\"7\" valign=\"top\">FREEBIE</th>\n",
       "      <th>APPAREL</th>\n",
       "      <td>0.669751</td>\n",
       "      <td>10.0</td>\n",
       "      <td>IBCF</td>\n",
       "      <td>common</td>\n",
       "      <td>0.680249</td>\n",
       "    </tr>\n",
       "    <tr>\n",
       "      <th>ARTWORK</th>\n",
       "      <td>0.440923</td>\n",
       "      <td>10.0</td>\n",
       "      <td>IBCF</td>\n",
       "      <td>cosine</td>\n",
       "      <td>0.445502</td>\n",
       "    </tr>\n",
       "    <tr>\n",
       "      <th>BOOK</th>\n",
       "      <td>0.360927</td>\n",
       "      <td>50.0</td>\n",
       "      <td>IBCF</td>\n",
       "      <td>cosine</td>\n",
       "      <td>0.365977</td>\n",
       "    </tr>\n",
       "    <tr>\n",
       "      <th>CALENDAR</th>\n",
       "      <td>0.719462</td>\n",
       "      <td>10.0</td>\n",
       "      <td>popular</td>\n",
       "      <td>common</td>\n",
       "      <td>0.709571</td>\n",
       "    </tr>\n",
       "    <tr>\n",
       "      <th>GAME</th>\n",
       "      <td>0.675897</td>\n",
       "      <td>50.0</td>\n",
       "      <td>IBCF</td>\n",
       "      <td>cosine</td>\n",
       "      <td>0.682051</td>\n",
       "    </tr>\n",
       "    <tr>\n",
       "      <th>OCCASION</th>\n",
       "      <td>0.769414</td>\n",
       "      <td>10.0</td>\n",
       "      <td>IBCF</td>\n",
       "      <td>cosine</td>\n",
       "      <td>0.772181</td>\n",
       "    </tr>\n",
       "    <tr>\n",
       "      <th>OTHER</th>\n",
       "      <td>0.644944</td>\n",
       "      <td>10.0</td>\n",
       "      <td>IBCF</td>\n",
       "      <td>common</td>\n",
       "      <td>0.659363</td>\n",
       "    </tr>\n",
       "    <tr>\n",
       "      <th rowspan=\"7\" valign=\"top\">GAME</th>\n",
       "      <th>APPAREL</th>\n",
       "      <td>0.578626</td>\n",
       "      <td>50.0</td>\n",
       "      <td>popular</td>\n",
       "      <td>cosine</td>\n",
       "      <td>0.576615</td>\n",
       "    </tr>\n",
       "    <tr>\n",
       "      <th>ARTWORK</th>\n",
       "      <td>0.289303</td>\n",
       "      <td>50.0</td>\n",
       "      <td>popular</td>\n",
       "      <td>common</td>\n",
       "      <td>0.320561</td>\n",
       "    </tr>\n",
       "    <tr>\n",
       "      <th>BOOK</th>\n",
       "      <td>0.347895</td>\n",
       "      <td>50.0</td>\n",
       "      <td>IBCF</td>\n",
       "      <td>common</td>\n",
       "      <td>0.512077</td>\n",
       "    </tr>\n",
       "    <tr>\n",
       "      <th>CALENDAR</th>\n",
       "      <td>0.641127</td>\n",
       "      <td>30.0</td>\n",
       "      <td>UBCF</td>\n",
       "      <td>cosine</td>\n",
       "      <td>0.914557</td>\n",
       "    </tr>\n",
       "    <tr>\n",
       "      <th>FREEBIE</th>\n",
       "      <td>0.997749</td>\n",
       "      <td>50.0</td>\n",
       "      <td>popular</td>\n",
       "      <td>cosine</td>\n",
       "      <td>0.998426</td>\n",
       "    </tr>\n",
       "    <tr>\n",
       "      <th>OCCASION</th>\n",
       "      <td>0.576075</td>\n",
       "      <td>50.0</td>\n",
       "      <td>popular</td>\n",
       "      <td>cosine</td>\n",
       "      <td>0.562543</td>\n",
       "    </tr>\n",
       "    <tr>\n",
       "      <th>OTHER</th>\n",
       "      <td>0.613549</td>\n",
       "      <td>50.0</td>\n",
       "      <td>UBCF</td>\n",
       "      <td>common</td>\n",
       "      <td>0.822932</td>\n",
       "    </tr>\n",
       "    <tr>\n",
       "      <th rowspan=\"7\" valign=\"top\">OCCASION</th>\n",
       "      <th>APPAREL</th>\n",
       "      <td>0.601016</td>\n",
       "      <td>50.0</td>\n",
       "      <td>popular</td>\n",
       "      <td>common</td>\n",
       "      <td>0.617712</td>\n",
       "    </tr>\n",
       "    <tr>\n",
       "      <th>ARTWORK</th>\n",
       "      <td>0.585823</td>\n",
       "      <td>50.0</td>\n",
       "      <td>IBCF</td>\n",
       "      <td>common</td>\n",
       "      <td>0.612801</td>\n",
       "    </tr>\n",
       "    <tr>\n",
       "      <th>BOOK</th>\n",
       "      <td>0.422522</td>\n",
       "      <td>50.0</td>\n",
       "      <td>IBCF</td>\n",
       "      <td>common</td>\n",
       "      <td>0.462132</td>\n",
       "    </tr>\n",
       "    <tr>\n",
       "      <th>CALENDAR</th>\n",
       "      <td>0.535714</td>\n",
       "      <td>10.0</td>\n",
       "      <td>IBCF</td>\n",
       "      <td>common</td>\n",
       "      <td>0.720833</td>\n",
       "    </tr>\n",
       "    <tr>\n",
       "      <th>FREEBIE</th>\n",
       "      <td>0.997475</td>\n",
       "      <td>10.0</td>\n",
       "      <td>IBCF</td>\n",
       "      <td>common</td>\n",
       "      <td>0.998377</td>\n",
       "    </tr>\n",
       "    <tr>\n",
       "      <th>GAME</th>\n",
       "      <td>0.362651</td>\n",
       "      <td>30.0</td>\n",
       "      <td>IBCF</td>\n",
       "      <td>common</td>\n",
       "      <td>0.543556</td>\n",
       "    </tr>\n",
       "    <tr>\n",
       "      <th>OTHER</th>\n",
       "      <td>0.690396</td>\n",
       "      <td>50.0</td>\n",
       "      <td>UBCF</td>\n",
       "      <td>common</td>\n",
       "      <td>0.803058</td>\n",
       "    </tr>\n",
       "    <tr>\n",
       "      <th rowspan=\"7\" valign=\"top\">OTHER</th>\n",
       "      <th>APPAREL</th>\n",
       "      <td>0.576198</td>\n",
       "      <td>50.0</td>\n",
       "      <td>popular</td>\n",
       "      <td>common</td>\n",
       "      <td>0.559675</td>\n",
       "    </tr>\n",
       "    <tr>\n",
       "      <th>ARTWORK</th>\n",
       "      <td>0.537270</td>\n",
       "      <td>50.0</td>\n",
       "      <td>IBCF</td>\n",
       "      <td>common</td>\n",
       "      <td>0.653734</td>\n",
       "    </tr>\n",
       "    <tr>\n",
       "      <th>BOOK</th>\n",
       "      <td>0.478211</td>\n",
       "      <td>10.0</td>\n",
       "      <td>IBCF</td>\n",
       "      <td>common</td>\n",
       "      <td>0.566374</td>\n",
       "    </tr>\n",
       "    <tr>\n",
       "      <th>CALENDAR</th>\n",
       "      <td>0.666667</td>\n",
       "      <td>30.0</td>\n",
       "      <td>UBCF</td>\n",
       "      <td>cosine</td>\n",
       "      <td>0.863889</td>\n",
       "    </tr>\n",
       "    <tr>\n",
       "      <th>FREEBIE</th>\n",
       "      <td>0.994020</td>\n",
       "      <td>50.0</td>\n",
       "      <td>popular</td>\n",
       "      <td>cosine</td>\n",
       "      <td>0.990259</td>\n",
       "    </tr>\n",
       "    <tr>\n",
       "      <th>GAME</th>\n",
       "      <td>0.463827</td>\n",
       "      <td>50.0</td>\n",
       "      <td>UBCF</td>\n",
       "      <td>cosine</td>\n",
       "      <td>0.706974</td>\n",
       "    </tr>\n",
       "    <tr>\n",
       "      <th>OCCASION</th>\n",
       "      <td>0.624208</td>\n",
       "      <td>30.0</td>\n",
       "      <td>IBCF</td>\n",
       "      <td>common</td>\n",
       "      <td>0.728776</td>\n",
       "    </tr>\n",
       "  </tbody>\n",
       "</table>\n",
       "</div>"
      ],
      "text/plain": [
       "                         cv     k   method  metric     train\n",
       "cat1     cat2                                               \n",
       "APPAREL  ARTWORK   0.405000  50.0     IBCF  common  0.551250\n",
       "         BOOK      0.337905  10.0     IBCF  common  0.475157\n",
       "         CALENDAR  0.558036  50.0     UBCF  cosine  0.757627\n",
       "         FREEBIE   0.997034  50.0  popular  cosine  0.996293\n",
       "         GAME      0.308036  30.0     IBCF  common  0.636786\n",
       "         OCCASION  0.517902  30.0  popular  common  0.525536\n",
       "         OTHER     0.404973  30.0     UBCF  cosine  0.775484\n",
       "ARTWORK  APPAREL   0.645167  30.0  popular  common  0.636625\n",
       "         BOOK      0.591459  50.0     UBCF  cosine  0.793007\n",
       "         CALENDAR  0.447907  30.0     UBCF  common  0.856872\n",
       "         FREEBIE   0.993025  50.0  popular  cosine  0.991172\n",
       "         GAME      0.436456  30.0  popular  cosine  0.433471\n",
       "         OCCASION  0.679712  10.0     IBCF  common  0.827625\n",
       "         OTHER     0.560514  50.0     UBCF  cosine  0.881986\n",
       "BOOK     APPAREL   0.637080  10.0  popular  common  0.617669\n",
       "         ARTWORK   0.604111  30.0     IBCF  common  0.648831\n",
       "         CALENDAR  0.611220  30.0     UBCF  cosine  0.837378\n",
       "         FREEBIE   0.995124  30.0  popular  common  0.995132\n",
       "         GAME      0.374625  50.0     IBCF  common  0.561665\n",
       "         OCCASION  0.596280  50.0     IBCF  common  0.662766\n",
       "         OTHER     0.639630  50.0     UBCF  cosine  0.860939\n",
       "CALENDAR APPAREL   0.606137  50.0     UBCF  cosine  0.823996\n",
       "         ARTWORK   0.351152  30.0     UBCF  cosine  0.596071\n",
       "         BOOK      0.476614  30.0     IBCF  common  0.553513\n",
       "         FREEBIE   0.994263  50.0  popular  common  0.995474\n",
       "         GAME      0.505674  30.0     UBCF  cosine  0.753531\n",
       "         OCCASION  0.450000  30.0     UBCF  cosine  0.692857\n",
       "         OTHER     0.622222  30.0     UBCF  cosine  0.889815\n",
       "FREEBIE  APPAREL   0.669751  10.0     IBCF  common  0.680249\n",
       "         ARTWORK   0.440923  10.0     IBCF  cosine  0.445502\n",
       "         BOOK      0.360927  50.0     IBCF  cosine  0.365977\n",
       "         CALENDAR  0.719462  10.0  popular  common  0.709571\n",
       "         GAME      0.675897  50.0     IBCF  cosine  0.682051\n",
       "         OCCASION  0.769414  10.0     IBCF  cosine  0.772181\n",
       "         OTHER     0.644944  10.0     IBCF  common  0.659363\n",
       "GAME     APPAREL   0.578626  50.0  popular  cosine  0.576615\n",
       "         ARTWORK   0.289303  50.0  popular  common  0.320561\n",
       "         BOOK      0.347895  50.0     IBCF  common  0.512077\n",
       "         CALENDAR  0.641127  30.0     UBCF  cosine  0.914557\n",
       "         FREEBIE   0.997749  50.0  popular  cosine  0.998426\n",
       "         OCCASION  0.576075  50.0  popular  cosine  0.562543\n",
       "         OTHER     0.613549  50.0     UBCF  common  0.822932\n",
       "OCCASION APPAREL   0.601016  50.0  popular  common  0.617712\n",
       "         ARTWORK   0.585823  50.0     IBCF  common  0.612801\n",
       "         BOOK      0.422522  50.0     IBCF  common  0.462132\n",
       "         CALENDAR  0.535714  10.0     IBCF  common  0.720833\n",
       "         FREEBIE   0.997475  10.0     IBCF  common  0.998377\n",
       "         GAME      0.362651  30.0     IBCF  common  0.543556\n",
       "         OTHER     0.690396  50.0     UBCF  common  0.803058\n",
       "OTHER    APPAREL   0.576198  50.0  popular  common  0.559675\n",
       "         ARTWORK   0.537270  50.0     IBCF  common  0.653734\n",
       "         BOOK      0.478211  10.0     IBCF  common  0.566374\n",
       "         CALENDAR  0.666667  30.0     UBCF  cosine  0.863889\n",
       "         FREEBIE   0.994020  50.0  popular  cosine  0.990259\n",
       "         GAME      0.463827  50.0     UBCF  cosine  0.706974\n",
       "         OCCASION  0.624208  30.0     IBCF  common  0.728776"
      ]
     },
     "execution_count": 22,
     "metadata": {},
     "output_type": "execute_result"
    }
   ],
   "source": [
    "top_cf = df_result_cf.sort_values(by='cv',ascending=False).groupby(['cat1','cat2']).first()\n",
    "top_cf"
   ]
  },
  {
   "cell_type": "markdown",
   "metadata": {},
   "source": [
    "Counting the best models for all pairs, IBCF is most often the best recommender system."
   ]
  },
  {
   "cell_type": "code",
   "execution_count": 23,
   "metadata": {
    "collapsed": false
   },
   "outputs": [
    {
     "data": {
      "text/plain": [
       "IBCF       23\n",
       "UBCF       17\n",
       "popular    16\n",
       "Name: method, dtype: int64"
      ]
     },
     "execution_count": 23,
     "metadata": {},
     "output_type": "execute_result"
    }
   ],
   "source": [
    "top_cf.method.value_counts()"
   ]
  },
  {
   "cell_type": "markdown",
   "metadata": {},
   "source": [
    "Comparison of the similarity formula. The common similarity suits IBCF while the cosine similarity suits UBCF."
   ]
  },
  {
   "cell_type": "code",
   "execution_count": 24,
   "metadata": {
    "collapsed": false
   },
   "outputs": [
    {
     "data": {
      "text/plain": [
       "method  metric\n",
       "IBCF    common    52\n",
       "        cosine     4\n",
       "UBCF    cosine    40\n",
       "        common    16\n",
       "Name: metric, dtype: int64"
      ]
     },
     "execution_count": 24,
     "metadata": {},
     "output_type": "execute_result"
    }
   ],
   "source": [
    "df_result_cf[df_result_cf.method!='popular'].sort_values(by='cv',ascending=False).groupby(['cat1','cat2','method']).first().reset_index().groupby('method')['metric'].value_counts()"
   ]
  },
  {
   "cell_type": "markdown",
   "metadata": {},
   "source": [
    "#### Success rates of the \"global popular items\" model\n",
    "\n",
    "In the following heat map we fill the diagonal cells with 0 to adjust the color gauge.\n",
    "\n",
    "The reason for the high success rates for the recommendations in FREEBIE is that the number of items in FREEBIE is very small (25). The number of items in CALENDAR is also small (31), however the success rates of the model are relatively small. On the other hand the model makes a good recommendation in ARTWORK, even though there are 3251 items in ARTWORK."
   ]
  },
  {
   "cell_type": "code",
   "execution_count": 25,
   "metadata": {
    "collapsed": false
   },
   "outputs": [
    {
     "data": {
      "image/png": "[encoded data removed]",
      "text/plain": [
       "<matplotlib.figure.Figure at 0x7f6091b95588>"
      ]
     },
     "metadata": {},
     "output_type": "display_data"
    }
   ],
   "source": [
    "ctab = df_result_cf[df_result_cf.method=='popular'].pivot(index='cat1',columns='cat2',values='cv').fillna(0)\n",
    "sns.heatmap(ctab,annot=True);"
   ]
  },
  {
   "cell_type": "markdown",
   "metadata": {},
   "source": [
    "#### Success rates of the UBCF recommendation models\n",
    "\n",
    "This model makes a better recommendations in CALENDER and OCCASION."
   ]
  },
  {
   "cell_type": "code",
   "execution_count": 26,
   "metadata": {
    "collapsed": false
   },
   "outputs": [
    {
     "data": {
      "image/png": "[encoded data removed]",
      "text/plain": [
       "<matplotlib.figure.Figure at 0x7f6091f6ae48>"
      ]
     },
     "metadata": {},
     "output_type": "display_data"
    }
   ],
   "source": [
    "ctab = df_result_cf[(df_result_cf.method=='UBCF') & (df_result_cf.k==50) & (df_result_cf.metric=='cosine')].pivot(index='cat1',columns='cat2',values='cv').fillna(0)\n",
    "sns.heatmap(ctab,annot=True);"
   ]
  },
  {
   "cell_type": "markdown",
   "metadata": {},
   "source": [
    "#### Success rates of the IBCF recommendation models\n",
    "\n",
    "The success rates are quite similar to the ones of UBCF."
   ]
  },
  {
   "cell_type": "code",
   "execution_count": 27,
   "metadata": {
    "collapsed": false
   },
   "outputs": [
    {
     "data": {
      "image/png": "[encoded data removed]",
      "text/plain": [
       "<matplotlib.figure.Figure at 0x7f6091eb1b00>"
      ]
     },
     "metadata": {},
     "output_type": "display_data"
    }
   ],
   "source": [
    "ctab = df_result_cf[(df_result_cf.method=='IBCF') & (df_result_cf.k==50) & (df_result_cf.metric=='common')].pivot(index='cat1',columns='cat2',values='cv').fillna(0)\n",
    "sns.heatmap(ctab,annot=True);"
   ]
  },
  {
   "cell_type": "markdown",
   "metadata": {
    "collapsed": false
   },
   "source": [
    "## Conclusion\n",
    "\n",
    "- There are some cases where the popular item model gives the best success rates. But UBCF and IBCF are better in most cases.\n",
    "- The choice of the formula for a similarity degree is also important.\n",
    "- If I implement a recommender system for our dataset as a product, I choose IBCF for all pairs of categories. "
   ]
  }
 ],
 "metadata": {
  "kernelspec": {
   "display_name": "Python 3",
   "language": "python",
   "name": "python3"
  },
  "language_info": {
   "codemirror_mode": {
    "name": "ipython",
    "version": 3
   },
   "file_extension": ".py",
   "mimetype": "text/x-python",
   "name": "python",
   "nbconvert_exporter": "python",
   "pygments_lexer": "ipython3",
   "version": "3.4.5"
  }
 },
 "nbformat": 4,
 "nbformat_minor": 1
}
